{
 "cells": [
  {
   "cell_type": "code",
   "execution_count": 8,
   "metadata": {},
   "outputs": [],
   "source": [
    "from qiskit import QuantumCircuit, execute, Aer, transpile\n",
    "from qiskit.circuit.random import random_circuit\n",
    "import numpy as np\n",
    "basis_gates = ['rz', 'x', 'sx', 'cx', 'id']"
   ]
  },
  {
   "cell_type": "code",
   "execution_count": 36,
   "metadata": {},
   "outputs": [],
   "source": [
    "n_qubits = 10\n",
    "depth = 20\n",
    "index = 35\n",
    "\n",
    "# Create a random quantum circuit\n",
    "qc = random_circuit(num_qubits=n_qubits, depth=depth, max_operands=3, reset=True, measure=False)\n",
    "qc_tr = transpile(qc, basis_gates=basis_gates)"
   ]
  },
  {
   "cell_type": "code",
   "execution_count": 37,
   "metadata": {},
   "outputs": [],
   "source": [
    "with open(f'circuits/{index}.qasm', 'w') as f:\n",
    "    f.write(qc.qasm())\n",
    "    \n",
    "with open(f'../benchmarks_basis/circuits/{index}.qasm', 'w') as f:\n",
    "    f.write(qc_tr.qasm())"
   ]
  },
  {
   "cell_type": "code",
   "execution_count": 38,
   "metadata": {},
   "outputs": [],
   "source": [
    "simulator = Aer.get_backend('statevector_simulator')  # Use the statevector simulator\n",
    "job = execute(qc, simulator)  # Execute the circuit\n",
    "result = job.result()  # Get the result of the execution\n",
    "statevector = result.get_statevector()\n",
    "probabilities = np.abs(statevector)**2  # The probabilities are the magnitudes squared of the statevector"
   ]
  },
  {
   "cell_type": "code",
   "execution_count": 39,
   "metadata": {},
   "outputs": [],
   "source": [
    "# Generate all bit strings for given number of qubits\n",
    "bit_strings = ['{0:0{1}b}'.format(i, n_qubits) for i in range(2**n_qubits)]\n",
    "\n",
    "# Save the probabilities to a file\n",
    "with open(f'results/{index}_result.txt', 'w') as f0:\n",
    "    with open(f'../benchmarks_basis/results/{index}_result.txt', 'w') as f1:\n",
    "    \n",
    "        for bit_string, probability in zip(bit_strings, probabilities):\n",
    "            f0.write(f'{bit_string} {probability}\\n')\n",
    "            f1.write(f'{bit_string} {probability}\\n')\n"
   ]
  },
  {
   "cell_type": "code",
   "execution_count": 52,
   "metadata": {},
   "outputs": [],
   "source": [
    "circuits = []\n",
    "\n",
    "for index in range(36, 37):\n",
    "    circuits.append(QuantumCircuit.from_qasm_file(f'circuits/{index}.qasm'))\n",
    "    \n",
    "    qc = circuits[-1].decompose()\n",
    "    qc_tr = transpile(qc, basis_gates=basis_gates)\n",
    "    \n",
    " \n",
    "    with open(f'circuits/{index}.qasm', 'w') as f:\n",
    "        f.write(qc.qasm())\n",
    "        \n",
    "    with open(f'../benchmarks_basis/circuits/{index}.qasm', 'w') as f:\n",
    "        f.write(qc_tr.qasm())\n",
    "        \n",
    "    qc_ops = qc.count_ops()\n",
    "    # Write the OrderedDict to a file\n",
    "    with open(f'gates/{index}_gates.txt', 'w') as f:\n",
    "        for key, value in qc_ops.items():\n",
    "            f.write(f'{key} {value}\\n')\n",
    "    \n",
    "    simulator = Aer.get_backend('statevector_simulator')  # Use the statevector simulator\n",
    "    job = execute(qc, simulator)  # Execute the circuit\n",
    "    result = job.result()  # Get the result of the execution\n",
    "    statevector = result.get_statevector()\n",
    "    probabilities = np.abs(statevector)**2  # The probabilities are the magnitudes squared of the statevector\n",
    "    \n",
    "    # Generate all bit strings for given number of qubits\n",
    "    bit_strings = ['{0:0{1}b}'.format(i, n_qubits) for i in range(2**n_qubits)]\n",
    "\n",
    "    # Save the probabilities to a file\n",
    "    with open(f'results/{index}_result.txt', 'w') as f0:\n",
    "        with open(f'../benchmarks_basis/results/{index}_result.txt', 'w') as f1:\n",
    "        \n",
    "            for bit_string, probability in zip(bit_strings, probabilities):\n",
    "                f0.write(f'{bit_string} {probability}\\n')\n",
    "                f1.write(f'{bit_string} {probability}\\n') "
   ]
  },
  {
   "cell_type": "code",
   "execution_count": 45,
   "metadata": {},
   "outputs": [
    {
     "data": {
      "text/plain": [
       "OrderedDict([('cx', 101),\n",
       "             ('u1', 51),\n",
       "             ('h', 44),\n",
       "             ('p', 33),\n",
       "             ('rz', 22),\n",
       "             ('u', 18),\n",
       "             ('sdg', 14),\n",
       "             ('s', 12),\n",
       "             ('u3', 11),\n",
       "             ('t', 9),\n",
       "             ('u2', 8),\n",
       "             ('tdg', 7),\n",
       "             ('r', 6),\n",
       "             ('rzx', 6),\n",
       "             ('cu1', 5),\n",
       "             ('ccx', 5),\n",
       "             ('id', 4),\n",
       "             ('ry', 4),\n",
       "             ('rx', 4),\n",
       "             ('x', 3),\n",
       "             ('reset', 3),\n",
       "             ('sx', 1),\n",
       "             ('sxdg', 1)])"
      ]
     },
     "execution_count": 45,
     "metadata": {},
     "output_type": "execute_result"
    }
   ],
   "source": [
    "circuit.decompose().count_ops()"
   ]
  },
  {
   "cell_type": "code",
   "execution_count": null,
   "metadata": {},
   "outputs": [],
   "source": []
  }
 ],
 "metadata": {
  "kernelspec": {
   "display_name": "qc",
   "language": "python",
   "name": "python3"
  },
  "language_info": {
   "codemirror_mode": {
    "name": "ipython",
    "version": 3
   },
   "file_extension": ".py",
   "mimetype": "text/x-python",
   "name": "python",
   "nbconvert_exporter": "python",
   "pygments_lexer": "ipython3",
   "version": "3.11.0"
  },
  "orig_nbformat": 4
 },
 "nbformat": 4,
 "nbformat_minor": 2
}
